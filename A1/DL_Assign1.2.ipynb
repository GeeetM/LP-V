{
 "cells": [
  {
   "cell_type": "code",
   "execution_count": 13,
   "id": "2126c0f0-c752-4c83-a282-cc18c9af5c32",
   "metadata": {},
   "outputs": [],
   "source": [
    "'''A1Linear regression by using Deep Neural network: Implement Boston housing price\n",
    "prediction problem by Linear regression using Deep Neural network. Use Boston House price\n",
    "predictiondataset.'''\n",
    "import pandas as pd"
   ]
  },
  {
   "cell_type": "code",
   "execution_count": 14,
   "id": "6ca9f036-d0f9-43b8-88a1-dc80788c553f",
   "metadata": {},
   "outputs": [],
   "source": [
    "df = pd.read_csv(\"housing.csv\")"
   ]
  },
  {
   "cell_type": "code",
   "execution_count": 15,
   "id": "06d5ac17-4688-4765-8e4b-46eefd0a82da",
   "metadata": {},
   "outputs": [
    {
     "data": {
      "text/plain": [
       "(489, 4)"
      ]
     },
     "execution_count": 15,
     "metadata": {},
     "output_type": "execute_result"
    }
   ],
   "source": [
    "df.shape"
   ]
  },
  {
   "cell_type": "code",
   "execution_count": 16,
   "id": "1322c641-7de1-42f4-b554-cac0b33f05a3",
   "metadata": {},
   "outputs": [
    {
     "data": {
      "text/plain": [
       "Index(['RM', 'LSTAT', 'PTRATIO', 'MEDV'], dtype='object')"
      ]
     },
     "execution_count": 16,
     "metadata": {},
     "output_type": "execute_result"
    }
   ],
   "source": [
    "df.columns"
   ]
  },
  {
   "cell_type": "code",
   "execution_count": null,
   "id": "d81f63c6-9f80-4bba-9f1e-e73f7ac33331",
   "metadata": {},
   "outputs": [
    {
     "name": "stdout",
     "output_type": "stream",
     "text": [
      "Epoch [100/1000], Loss: 11877828608.0000\n",
      "Epoch [200/1000], Loss: 8020913664.0000\n",
      "Epoch [300/1000], Loss: 7951452160.0000\n",
      "Epoch [400/1000], Loss: 7949851136.0000\n",
      "Epoch [500/1000], Loss: 7949741568.0000\n",
      "Epoch [600/1000], Loss: 7949720064.0000\n",
      "Epoch [700/1000], Loss: 7949715968.0000\n",
      "Epoch [800/1000], Loss: 7949714432.0000\n",
      "Epoch [900/1000], Loss: 7949715968.0000\n",
      "Epoch [1000/1000], Loss: 7949715968.0000\n",
      "Training time: 0.44 seconds\n",
      "Mean Squared Error on Test Data: 6789032960.0000\n",
      "Prediction time: 0.00 seconds\n"
     ]
    }
   ],
   "source": [
    "import numpy as np\n",
    "import torch\n",
    "import torch.nn as nn\n",
    "import torch.optim as optim\n",
    "from sklearn.model_selection import train_test_split\n",
    "from sklearn.preprocessing import StandardScaler\n",
    "\n",
    "# Assuming df contains your dataset\n",
    "\n",
    "X = df.drop(columns=['MEDV'])\n",
    "y = df['MEDV']\n",
    "\n",
    "X_train, X_test, y_train, y_test = train_test_split(X, y, test_size=0.2, random_state=42)\n",
    "\n",
    "scaler = StandardScaler()\n",
    "X_train_scaled = scaler.fit_transform(X_train)\n",
    "X_test_scaled = scaler.transform(X_test)\n",
    "\n",
    "# Convert target variable to a numeric type (float)\n",
    "y_train_numeric = y_train.astype(float)\n",
    "y_test_numeric = y_test.astype(float)\n",
    "\n",
    "# Convert data to PyTorch tensors\n",
    "X_train_tensor = torch.tensor(X_train_scaled, dtype=torch.float32)\n",
    "X_test_tensor = torch.tensor(X_test_scaled, dtype=torch.float32)\n",
    "\n",
    "y_train_tensor = torch.tensor(y_train_numeric.values, dtype=torch.float32).view(-1, 1)\n",
    "y_test_tensor = torch.tensor(y_test_numeric.values, dtype=torch.float32).view(-1, 1)\n",
    "\n",
    "class DynamicLinearRegression(nn.Module):\n",
    "    def __init__(self, input_dim):\n",
    "        super(DynamicLinearRegression, self).__init__()\n",
    "        self.linear = nn.Linear(input_dim, 1)\n",
    "\n",
    "    def forward(self, x):\n",
    "        return self.linear(x)\n",
    "\n",
    "input_dim = X_train.shape[1]  # Number of input features\n",
    "model = DynamicLinearRegression(input_dim)\n",
    "\n",
    "# Define loss function and optimizer\n",
    "criterion = nn.MSELoss()\n",
    "optimizer = optim.SGD(model.parameters(), lr=0.01)\n",
    "\n",
    "# Record training time\n",
    "start_time = time.time()\n",
    "\n",
    "# Train the model\n",
    "num_epochs = 1000\n",
    "for epoch in range(num_epochs):\n",
    "    # Forward pass\n",
    "    outputs = model(X_train_tensor)\n",
    "    loss = criterion(outputs, y_train_tensor)\n",
    "    \n",
    "    # Backward pass and optimization\n",
    "    optimizer.zero_grad()\n",
    "    loss.backward()\n",
    "    optimizer.step()\n",
    "    \n",
    "    if (epoch+1) % 100 == 0:\n",
    "        print(f'Epoch [{epoch+1}/{num_epochs}], Loss: {loss.item():.4f}')\n",
    "\n",
    "# Calculate training time\n",
    "training_time = time.time() - start_time\n",
    "print(f\"Training time: {training_time:.2f} seconds\")\n",
    "\n",
    "# Record prediction time\n",
    "start_time = time.time()\n",
    "\n",
    "# Evaluate the model\n",
    "with torch.no_grad():\n",
    "    predicted = model(X_test_tensor)\n",
    "    mse = criterion(predicted, y_test_tensor)\n",
    "    print(f'Mean Squared Error on Test Data: {mse:.4f}')\n",
    "\n",
    "# Calculate prediction time\n",
    "prediction_time = time.time() - start_time\n",
    "print(f\"Prediction time: {prediction_time:.2f} seconds\")\n",
    "\n",
    "import torch\n",
    "import torch.nn as nn\n",
    "\n",
    "# Define the model architecture\n",
    "class DynamicLinearRegression(nn.Module):\n",
    "    def __init__(self, input_dim):\n",
    "        super(DynamicLinearRegression, self).__init__()\n",
    "        self.linear = nn.Linear(input_dim, 1)\n",
    "\n",
    "    def forward(self, x):\n",
    "        return self.linear(x)\n",
    "\n",
    "# Load the trained model\n",
    "model = DynamicLinearRegression(input_dim)\n",
    "torch.save(model.state_dict(), 'model_weights.pth')\n",
    "\n",
    "# Load the trained model weights (assuming the model has been trained before)\n",
    "model.load_state_dict(torch.load('model_weights.pth'))\n",
    "\n",
    "# Accept user input for the features\n",
    "user_input = []\n",
    "for feature in X_train.columns:\n",
    "    user_input.append(float(input(f\"Enter value for {feature}: \")))\n",
    "\n",
    "# Convert the user input into a tensor\n",
    "user_input_tensor = torch.tensor(user_input, dtype=torch.float32)\n",
    "\n",
    "# Reshape the tensor to match the input dimension of the model\n",
    "user_input_tensor = user_input_tensor.view(1, -1)\n",
    "\n",
    "# Make prediction using the trained model\n",
    "with torch.no_grad():\n",
    "    predicted_price = model(user_input_tensor)\n",
    "\n",
    "# Print the predicted price\n",
    "print(f\"The predicted house price is: {predicted_price.item():.2f} USD\")\n"
   ]
  },
  {
   "cell_type": "code",
   "execution_count": null,
   "id": "33ea52a3-7fd1-4065-9dd9-9585a9449432",
   "metadata": {},
   "outputs": [],
   "source": []
  }
 ],
 "metadata": {
  "kernelspec": {
   "display_name": "Python 3 (ipykernel)",
   "language": "python",
   "name": "python3"
  },
  "language_info": {
   "codemirror_mode": {
    "name": "ipython",
    "version": 3
   },
   "file_extension": ".py",
   "mimetype": "text/x-python",
   "name": "python",
   "nbconvert_exporter": "python",
   "pygments_lexer": "ipython3",
   "version": "3.12.1"
  }
 },
 "nbformat": 4,
 "nbformat_minor": 5
}
