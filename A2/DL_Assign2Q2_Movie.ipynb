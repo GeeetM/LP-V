{
 "cells": [
  {
   "cell_type": "code",
   "execution_count": 2,
   "id": "5bea0900-9208-43c5-931d-35ffd9f190c9",
   "metadata": {},
   "outputs": [],
   "source": [
    "'''A2Q2 Binary classification using Deep Neural Networks Example: Classify movie reviews into\n",
    "positive\" reviews and \"negative\" reviews, just based on the text content of the reviews.\n",
    "# Importing necessary libraries\n",
    "Use IMDB dataset'''\n",
    "import tensorflow as tf\n",
    "from tensorflow import keras\n",
    "from tensorflow.keras.datasets import imdb\n",
    "from tensorflow.keras.preprocessing.sequence import pad_sequences\n",
    "import numpy as np\n",
    "import matplotlib.pyplot as plt\n",
    "import time"
   ]
  },
  {
   "cell_type": "code",
   "execution_count": 3,
   "id": "2f1123b2-68b2-477d-9e65-40de68794b38",
   "metadata": {},
   "outputs": [],
   "source": [
    "num_words = 10000\n",
    "maxlen = 200"
   ]
  },
  {
   "cell_type": "code",
   "execution_count": 4,
   "id": "03bacabd-2231-4579-8f8d-d8fe87982b2a",
   "metadata": {},
   "outputs": [],
   "source": [
    "(x_train, y_train), (x_test, y_test) = imdb.load_data(num_words=num_words)\n",
    "\n",
    "# Splitting and padding sequences\n",
    "x_train = pad_sequences(x_train, maxlen=maxlen)\n",
    "x_test = pad_sequences(x_test, maxlen=maxlen)"
   ]
  },
  {
   "cell_type": "code",
   "execution_count": 5,
   "id": "13b52c57-faff-4963-a90f-01cf7e61d836",
   "metadata": {},
   "outputs": [],
   "source": [
    "# Importing necessary libraries for modeling\n",
    "import tensorflow as tf\n",
    "from tensorflow.keras.models import Sequential\n",
    "from tensorflow.keras.layers import Embedding, GlobalAveragePooling1D, Dense"
   ]
  },
  {
   "cell_type": "code",
   "execution_count": 6,
   "id": "9cc7359d-a57a-4e68-a5d8-d1ca0b2ff51b",
   "metadata": {},
   "outputs": [],
   "source": [
    "# Define the model\n",
    "model = Sequential([\n",
    "    Embedding(input_dim=num_words, output_dim=16),\n",
    "    GlobalAveragePooling1D(),\n",
    "    Dense(16, activation='relu'),\n",
    "    Dense(1, activation='sigmoid')\n",
    "])\n",
    "model.compile(optimizer='adam',\n",
    "              loss='binary_crossentropy',\n",
    "              metrics=['accuracy'])"
   ]
  },
  {
   "cell_type": "code",
   "execution_count": 7,
   "id": "d02165ab-a7d3-4f3d-a30f-ece90fd31473",
   "metadata": {},
   "outputs": [
    {
     "name": "stdout",
     "output_type": "stream",
     "text": [
      "Epoch 1/15\n",
      "\u001b[1m49/49\u001b[0m \u001b[32m━━━━━━━━━━━━━━━━━━━━\u001b[0m\u001b[37m\u001b[0m \u001b[1m4s\u001b[0m 35ms/step - accuracy: 0.5359 - loss: 0.6908 - val_accuracy: 0.6188 - val_loss: 0.6796\n",
      "Epoch 2/15\n",
      "\u001b[1m49/49\u001b[0m \u001b[32m━━━━━━━━━━━━━━━━━━━━\u001b[0m\u001b[37m\u001b[0m \u001b[1m1s\u001b[0m 18ms/step - accuracy: 0.6662 - loss: 0.6714 - val_accuracy: 0.7154 - val_loss: 0.6414\n",
      "Epoch 3/15\n",
      "\u001b[1m49/49\u001b[0m \u001b[32m━━━━━━━━━━━━━━━━━━━━\u001b[0m\u001b[37m\u001b[0m \u001b[1m1s\u001b[0m 18ms/step - accuracy: 0.7442 - loss: 0.6214 - val_accuracy: 0.7974 - val_loss: 0.5663\n",
      "Epoch 4/15\n",
      "\u001b[1m49/49\u001b[0m \u001b[32m━━━━━━━━━━━━━━━━━━━━\u001b[0m\u001b[37m\u001b[0m \u001b[1m1s\u001b[0m 18ms/step - accuracy: 0.8183 - loss: 0.5377 - val_accuracy: 0.8250 - val_loss: 0.4832\n",
      "Epoch 5/15\n",
      "\u001b[1m49/49\u001b[0m \u001b[32m━━━━━━━━━━━━━━━━━━━━\u001b[0m\u001b[37m\u001b[0m \u001b[1m1s\u001b[0m 19ms/step - accuracy: 0.8410 - loss: 0.4530 - val_accuracy: 0.8372 - val_loss: 0.4202\n",
      "Epoch 6/15\n",
      "\u001b[1m49/49\u001b[0m \u001b[32m━━━━━━━━━━━━━━━━━━━━\u001b[0m\u001b[37m\u001b[0m \u001b[1m1s\u001b[0m 27ms/step - accuracy: 0.8585 - loss: 0.3914 - val_accuracy: 0.8513 - val_loss: 0.3778\n",
      "Epoch 7/15\n",
      "\u001b[1m49/49\u001b[0m \u001b[32m━━━━━━━━━━━━━━━━━━━━\u001b[0m\u001b[37m\u001b[0m \u001b[1m1s\u001b[0m 17ms/step - accuracy: 0.8683 - loss: 0.3493 - val_accuracy: 0.8586 - val_loss: 0.3509\n",
      "Epoch 8/15\n",
      "\u001b[1m49/49\u001b[0m \u001b[32m━━━━━━━━━━━━━━━━━━━━\u001b[0m\u001b[37m\u001b[0m \u001b[1m1s\u001b[0m 18ms/step - accuracy: 0.8778 - loss: 0.3196 - val_accuracy: 0.8626 - val_loss: 0.3333\n",
      "Epoch 9/15\n",
      "\u001b[1m49/49\u001b[0m \u001b[32m━━━━━━━━━━━━━━━━━━━━\u001b[0m\u001b[37m\u001b[0m \u001b[1m1s\u001b[0m 18ms/step - accuracy: 0.8819 - loss: 0.3016 - val_accuracy: 0.8675 - val_loss: 0.3203\n",
      "Epoch 10/15\n",
      "\u001b[1m49/49\u001b[0m \u001b[32m━━━━━━━━━━━━━━━━━━━━\u001b[0m\u001b[37m\u001b[0m \u001b[1m1s\u001b[0m 18ms/step - accuracy: 0.8928 - loss: 0.2788 - val_accuracy: 0.8698 - val_loss: 0.3116\n",
      "Epoch 11/15\n",
      "\u001b[1m49/49\u001b[0m \u001b[32m━━━━━━━━━━━━━━━━━━━━\u001b[0m\u001b[37m\u001b[0m \u001b[1m1s\u001b[0m 29ms/step - accuracy: 0.9002 - loss: 0.2602 - val_accuracy: 0.8716 - val_loss: 0.3048\n",
      "Epoch 12/15\n",
      "\u001b[1m49/49\u001b[0m \u001b[32m━━━━━━━━━━━━━━━━━━━━\u001b[0m\u001b[37m\u001b[0m \u001b[1m1s\u001b[0m 18ms/step - accuracy: 0.9041 - loss: 0.2522 - val_accuracy: 0.8721 - val_loss: 0.3010\n",
      "Epoch 13/15\n",
      "\u001b[1m49/49\u001b[0m \u001b[32m━━━━━━━━━━━━━━━━━━━━\u001b[0m\u001b[37m\u001b[0m \u001b[1m1s\u001b[0m 18ms/step - accuracy: 0.9134 - loss: 0.2382 - val_accuracy: 0.8771 - val_loss: 0.2956\n",
      "Epoch 14/15\n",
      "\u001b[1m49/49\u001b[0m \u001b[32m━━━━━━━━━━━━━━━━━━━━\u001b[0m\u001b[37m\u001b[0m \u001b[1m1s\u001b[0m 17ms/step - accuracy: 0.9151 - loss: 0.2274 - val_accuracy: 0.8776 - val_loss: 0.2927\n",
      "Epoch 15/15\n",
      "\u001b[1m49/49\u001b[0m \u001b[32m━━━━━━━━━━━━━━━━━━━━\u001b[0m\u001b[37m\u001b[0m \u001b[1m1s\u001b[0m 18ms/step - accuracy: 0.9168 - loss: 0.2225 - val_accuracy: 0.8780 - val_loss: 0.2900\n",
      "Training time: 18.421795129776 seconds\n"
     ]
    }
   ],
   "source": [
    "# Train the model\n",
    "start_time_training = time.time()  # Starting the timer for training\n",
    "history = model.fit(x_train, y_train,\n",
    "                    epochs=15,\n",
    "                    batch_size=512,\n",
    "                    validation_data=(x_test, y_test),\n",
    "                    verbose=1)\n",
    "end_time_training = time.time()  # Ending the timer for training\n",
    "\n",
    "# Calculating and printing the time taken for training\n",
    "training_time = end_time_training - start_time_training\n",
    "print(f\"Training time: {training_time} seconds\")"
   ]
  },
  {
   "cell_type": "code",
   "execution_count": 8,
   "id": "23066dfa-0391-4d51-925d-74780cb02cf0",
   "metadata": {},
   "outputs": [
    {
     "name": "stdout",
     "output_type": "stream",
     "text": [
      "\u001b[1m782/782\u001b[0m \u001b[32m━━━━━━━━━━━━━━━━━━━━\u001b[0m\u001b[37m\u001b[0m \u001b[1m2s\u001b[0m 2ms/step - accuracy: 0.8787 - loss: 0.2894\n",
      "The Test Accuracy: is 0.8780400156974792\n"
     ]
    }
   ],
   "source": [
    "# Evaluating the model\n",
    "loss, accuracy = model.evaluate(x_test, y_test)\n",
    "print(\"The Test Accuracy: is\", accuracy)"
   ]
  },
  {
   "cell_type": "code",
   "execution_count": 9,
   "id": "33d70697-61d4-4f1f-8e94-f4273b5291b3",
   "metadata": {},
   "outputs": [],
   "source": [
    "# Function to get user input\n",
    "def get_user_input():\n",
    "    review = input(\"Enter your movie review: \")\n",
    "    return review"
   ]
  },
  {
   "cell_type": "code",
   "execution_count": 10,
   "id": "aa718fbc-7695-4b54-9eef-28c79124cbb9",
   "metadata": {},
   "outputs": [],
   "source": [
    "# Function to preprocess input\n",
    "def preprocess_input(review):\n",
    "    word_index = imdb.get_word_index()\n",
    "    words = review.lower().split() \n",
    "    sequence = [word_index[word] + 3 if word in word_index and word_index[word] < num_words else 2 for word in words]\n",
    "    sequence = pad_sequences([sequence], maxlen=maxlen, padding='post', truncating='post')  # Pad or truncate sequence\n",
    "    return sequence"
   ]
  },
  {
   "cell_type": "code",
   "execution_count": 11,
   "id": "14ef377d-007e-4b82-838d-4a81b497f5a3",
   "metadata": {},
   "outputs": [],
   "source": [
    "# Function to predict sentiment\n",
    "def predict_sentiment(review):\n",
    "    start_time_prediction = time.time()  # Starting the timer for prediction\n",
    "    sequence = preprocess_input(review)\n",
    "    prediction = model.predict(sequence)[0][0]\n",
    "    end_time_prediction = time.time()  # Ending the timer for prediction\n",
    "    prediction_time = end_time_prediction - start_time_prediction  # Calculating prediction time\n",
    "    print(f\"Prediction time: {prediction_time} seconds\")  # Printing prediction time\n",
    "    return prediction"
   ]
  },
  {
   "cell_type": "code",
   "execution_count": null,
   "id": "0e2933dc-3861-47ed-b584-d1308a7b669c",
   "metadata": {},
   "outputs": [
    {
     "name": "stdin",
     "output_type": "stream",
     "text": [
      "Enter your movie review:  good movie\n"
     ]
    },
    {
     "name": "stdout",
     "output_type": "stream",
     "text": [
      "\u001b[1m1/1\u001b[0m \u001b[32m━━━━━━━━━━━━━━━━━━━━\u001b[0m\u001b[37m\u001b[0m \u001b[1m0s\u001b[0m 125ms/step\n",
      "Prediction time: 0.2894620895385742 seconds\n",
      "Prediction: Positive\n"
     ]
    }
   ],
   "source": [
    "# Function to plot history\n",
    "def plot_history(history):\n",
    "    acc = history.history['accuracy']\n",
    "    val_acc = history.history['val_accuracy']\n",
    "    loss = history.history['loss']\n",
    "    val_loss = history.history['val_loss']\n",
    "\n",
    "    epochs = range(1, len(acc) + 1)\n",
    "\n",
    "    plt.plot(epochs, acc, 'bo', label='Training acc')\n",
    "    plt.plot(epochs, val_acc, 'b', label='Validation acc')\n",
    "    plt.title('Training and validation accuracy')\n",
    "    plt.xlabel('Epochs')\n",
    "    plt.ylabel('Accuracy')\n",
    "    plt.legend()\n",
    "    plt.figure()\n",
    "\n",
    "    plt.plot(epochs, loss, 'bo', label='Training loss')\n",
    "    plt.plot(epochs, val_loss, 'b', label='Validation loss')\n",
    "    plt.title('Training and validation loss')\n",
    "    plt.xlabel('Epochs')\n",
    "    plt.ylabel('Loss')\n",
    "    plt.legend()\n",
    "\n",
    "    plt.show()\n",
    "\n",
    "# Main loop for user interaction\n",
    "while True:\n",
    "    review = get_user_input()\n",
    "    if review.lower() == 'exit':\n",
    "        break\n",
    "    prediction = predict_sentiment(review)\n",
    "    if prediction > 0.5:\n",
    "        print(\"Prediction: Positive\")\n",
    "    else:\n",
    "        print(\"Prediction: Negative\")"
   ]
  },
  {
   "cell_type": "code",
   "execution_count": null,
   "id": "b968febb-03ab-4b49-b817-3ac87e2d9b9f",
   "metadata": {},
   "outputs": [],
   "source": []
  }
 ],
 "metadata": {
  "kernelspec": {
   "display_name": "Python 3 (ipykernel)",
   "language": "python",
   "name": "python3"
  },
  "language_info": {
   "codemirror_mode": {
    "name": "ipython",
    "version": 3
   },
   "file_extension": ".py",
   "mimetype": "text/x-python",
   "name": "python",
   "nbconvert_exporter": "python",
   "pygments_lexer": "ipython3",
   "version": "3.12.1"
  }
 },
 "nbformat": 4,
 "nbformat_minor": 5
}
